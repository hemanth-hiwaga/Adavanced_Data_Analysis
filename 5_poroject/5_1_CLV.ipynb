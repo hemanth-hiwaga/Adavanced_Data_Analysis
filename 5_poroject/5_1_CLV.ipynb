{
 "cells": [
  {
   "cell_type": "code",
   "execution_count": null,
   "metadata": {},
   "outputs": [],
   "source": [
    "import pandas as pd\n",
    "import matplotlib.pyplot as plt\n",
    "import seaborn as sns\n",
    "import datetime as dt\n",
    "%run 1_cleaning_data.ipynb\n",
    "data = data"
   ]
  },
  {
   "cell_type": "code",
   "execution_count": 4,
   "metadata": {},
   "outputs": [],
   "source": [
    "# we have price each column if not we could feature engineered it by\n",
    "#totatl sales / quantity ordered\n",
    "#now calculating avg purchase value of each customer  by using their address\n",
    "apv = data.groupby('Purchase Address')['Price Each'].mean()"
   ]
  },
  {
   "cell_type": "code",
   "execution_count": 8,
   "metadata": {},
   "outputs": [],
   "source": [
    "#calculating the each customer order frequency\n",
    "purchase_frequency = data.groupby('Purchase Address')['Order ID'].size()"
   ]
  },
  {
   "cell_type": "code",
   "execution_count": 16,
   "metadata": {},
   "outputs": [],
   "source": [
    "#churn rate -percentage of  customers who stopped buying after some purchases\n",
    "churn_rate = 1-(data['Purchase Address'].nunique()/data.shape[0])"
   ]
  },
  {
   "cell_type": "code",
   "execution_count": 17,
   "metadata": {},
   "outputs": [
    {
     "data": {
      "text/plain": [
       "0.24180067425654062"
      ]
     },
     "execution_count": 17,
     "metadata": {},
     "output_type": "execute_result"
    }
   ],
   "source": [
    "churn_rate"
   ]
  },
  {
   "cell_type": "code",
   "execution_count": 18,
   "metadata": {},
   "outputs": [],
   "source": [
    "#finally calulating the CLV\n",
    "CLV =  apv * purchase_frequency *(1/churn_rate)"
   ]
  },
  {
   "cell_type": "code",
   "execution_count": 19,
   "metadata": {},
   "outputs": [
    {
     "data": {
      "text/plain": [
       "Purchase Address\n",
       "1 11th St, Atlanta, GA 30301                49.420871\n",
       "1 11th St, Los Angeles, CA 90001          7030.584200\n",
       "1 11th St, San Francisco, CA 94016        2894.946435\n",
       "1 12th St, Los Angeles, CA 90001           620.345665\n",
       "1 12th St, New York City, NY 10001          49.586297\n",
       "                                             ...     \n",
       "999 Wilson St, Atlanta, GA 30301           413.522420\n",
       "999 Wilson St, Los Angeles, CA 90001      4135.596408\n",
       "999 Wilson St, New York City, NY 10001     620.345665\n",
       "999 Wilson St, Portland, OR 97035           12.365557\n",
       "999 Wilson St, San Francisco, CA 94016     620.345665\n",
       "Length: 140787, dtype: float64"
      ]
     },
     "execution_count": 19,
     "metadata": {},
     "output_type": "execute_result"
    }
   ],
   "source": [
    "CLV"
   ]
  },
  {
   "cell_type": "code",
   "execution_count": null,
   "metadata": {},
   "outputs": [],
   "source": []
  }
 ],
 "metadata": {
  "kernelspec": {
   "display_name": "python1st",
   "language": "python",
   "name": "python3"
  },
  "language_info": {
   "codemirror_mode": {
    "name": "ipython",
    "version": 3
   },
   "file_extension": ".py",
   "mimetype": "text/x-python",
   "name": "python",
   "nbconvert_exporter": "python",
   "pygments_lexer": "ipython3",
   "version": "3.12.3"
  }
 },
 "nbformat": 4,
 "nbformat_minor": 2
}
